{
 "cells": [
  {
   "cell_type": "code",
   "execution_count": null,
   "metadata": {
    "colab": {
     "base_uri": "https://localhost:8080/"
    },
    "id": "U7icJmKnwhFO",
    "outputId": "98db0804-ff6e-419f-c5d6-93f7793e01eb"
   },
   "outputs": [
    {
     "name": "stdout",
     "output_type": "stream",
     "text": [
      "Using cpu device\n"
     ]
    }
   ],
   "source": [
    "import torch\n",
    "device = 'cuda' if torch.cuda.is_available() else 'cpu'\n",
    "print(\"Using {} device\".format(device))"
   ]
  },
  {
   "cell_type": "code",
   "execution_count": null,
   "metadata": {
    "id": "mjN7WORaUHTi"
   },
   "outputs": [],
   "source": [
    "from torch import nn\n",
    "from torch.utils.data import DataLoader\n",
    "from torchvision import datasets, models\n",
    "from torchvision.transforms import ToTensor, Lambda, Compose\n",
    "import matplotlib.pyplot as plt"
   ]
  },
  {
   "cell_type": "markdown",
   "metadata": {
    "id": "dK3gMh4wj2BJ"
   },
   "source": [
    "The mobilenet v1 is implemented below.\n",
    "Reference links: \n",
    "1. https://towardsdatascience.com/review-mobilenetv1-depthwise-separable-convolution-light-weight-model-a382df364b69\n",
    "\n",
    "2. https://arxiv.org/pdf/1704.04861v1.pdf\n",
    "\n",
    "For mobilnet v2:\n",
    "\n",
    "```\n",
    "mobilenet = models.mobilenet_v2(pretrained=True)\n",
    "```\n",
    "![img.png](https://drive.google.com/uc?export=view&id=1elEnrh_MAWIk1s5eOF7zffn-Fb0fWl45)\n",
    "\n",
    "There is a mistake.. stride for the last depthwise_conv layer should be 1 and not 2. "
   ]
  },
  {
   "cell_type": "code",
   "execution_count": null,
   "metadata": {
    "id": "D4gDLJO3x4oE"
   },
   "outputs": [],
   "source": [
    "def standard_conv(input_channels , output_channels, stride):\n",
    "    model = nn.Sequential(\n",
    "        nn.Conv2d(\n",
    "            in_channels=input_channels, \n",
    "            out_channels=output_channels, \n",
    "            kernel_size=3, \n",
    "            stride = stride, \n",
    "            padding = 1, \n",
    "            bias=False),\n",
    "        nn.BatchNorm2d(num_features=output_channels),\n",
    "        nn.ReLU(inplace=True)\n",
    "    )\n",
    "    return model"
   ]
  },
  {
   "cell_type": "code",
   "execution_count": null,
   "metadata": {
    "id": "6pbRIiz1yCVc"
   },
   "outputs": [],
   "source": [
    "def depthwise_conv(input_channels , output_channels, stride):\n",
    "    model = nn.Sequential(\n",
    "        # depthwise convolution\n",
    "        # this is ensured by making groups = input_channels\n",
    "        nn.Conv2d(\n",
    "            in_channels = input_channels, \n",
    "            out_channels = input_channels, \n",
    "            kernel_size=3, \n",
    "            stride = stride, \n",
    "            padding = 1, \n",
    "            groups=input_channels, \n",
    "            bias=False),\n",
    "        nn.BatchNorm2d(num_features=input_channels),\n",
    "        nn.ReLU(inplace=True),\n",
    "\n",
    "        # pointwise convolution\n",
    "        nn.Conv2d(\n",
    "            in_channels = input_channels, \n",
    "            out_channels = output_channels, \n",
    "            kernel_size = 1, \n",
    "            stride = 1, \n",
    "            padding = 0, \n",
    "            bias=False),\n",
    "        nn.BatchNorm2d(num_features=output_channels),\n",
    "        nn.ReLU(inplace=True),\n",
    "    )\n",
    "    return model"
   ]
  },
  {
   "cell_type": "code",
   "execution_count": null,
   "metadata": {
    "id": "AxrWvNvQUumP"
   },
   "outputs": [],
   "source": [
    "class MobileNet(nn.Module):\n",
    "    def __init__(self):\n",
    "        super(MobileNet, self).__init__()\n",
    "        self.conv_layers = nn.Sequential(\n",
    "            standard_conv(input_channels = 3, output_channels = 32, stride = 2),\n",
    "            depthwise_conv(input_channels = 32, output_channels = 64, stride = 1),\n",
    "            depthwise_conv(input_channels = 64, output_channels = 128, stride = 2),\n",
    "            depthwise_conv(input_channels = 128, output_channels = 128, stride = 1),\n",
    "            depthwise_conv(input_channels = 128, output_channels = 256, stride = 2),\n",
    "            depthwise_conv(input_channels = 256, output_channels = 256, stride = 1),\n",
    "            depthwise_conv(input_channels = 256, output_channels = 512, stride = 2),\n",
    "            depthwise_conv(input_channels = 512, output_channels = 512, stride = 1),\n",
    "            depthwise_conv(input_channels = 512, output_channels = 512, stride = 1),\n",
    "            depthwise_conv(input_channels = 512, output_channels = 512, stride = 1),\n",
    "            depthwise_conv(input_channels = 512, output_channels = 512, stride = 1),\n",
    "            depthwise_conv(input_channels = 512, output_channels = 512, stride = 1),\n",
    "            depthwise_conv(input_channels = 512, output_channels = 1024, stride = 2),\n",
    "            depthwise_conv(input_channels = 1024, output_channels = 1024, stride = 1),\n",
    "            nn.AvgPool2d(kernel_size=7)\n",
    "        )   \n",
    "        self.fully_connected = nn.Linear(in_features=1024, out_features=1000)\n",
    "        self.softmax = nn.Softmax(dim = 1) \n",
    "\n",
    "    def forward(self, x):\n",
    "        '''\n",
    "        # Debug Block (prints output size of each layer)\n",
    "        for layer in self.conv_layers:\n",
    "          x = layer(x)\n",
    "          print(x.size())\n",
    "        x = torch.reshape(x, (-1, 1024))\n",
    "        print(x.size())\n",
    "        x = self.fully_connected(x)\n",
    "        print(x.size())\n",
    "        x = self.softmax(x)\n",
    "        print(x.size())\n",
    "\n",
    "        # To run the block execute:\n",
    "        # x = torch.randn(1, 3, 224, 224)\n",
    "        # model(x)\n",
    "        '''\n",
    "\n",
    "        x = self.conv_layers(x)\n",
    "        x = torch.reshape(x, (-1, 1024))\n",
    "        x = self.fully_connected(x)\n",
    "        x = self.softmax(x)\n",
    "        \n",
    "        return x"
   ]
  },
  {
   "cell_type": "code",
   "execution_count": null,
   "metadata": {
    "id": "-vl6pHXz8Qff"
   },
   "outputs": [],
   "source": [
    "# returns the mobilenetv1 initialized using pretrained weights on imagenet. lr = 0.1 bs = 256\n",
    "def load_pretrained_mobilenet():\n",
    "    model = MobileNet().to(device)\n",
    "    model_filename = 'drive/MyDrive/Saidl Assignment/model_best.pth.tar'\n",
    "    checkpoint = torch.load(model_filename, map_location = device)\n",
    "    pretrained_dict = checkpoint['state_dict']\n",
    "    for key in list(pretrained_dict.keys()):\n",
    "        if 'model.' in key:\n",
    "            pretrained_dict[key.replace('module.model.', 'conv_layers.')] = pretrained_dict[key]\n",
    "            del pretrained_dict[key]\n",
    "        if 'module.fc.' in key:\n",
    "            pretrained_dict[key.replace('module.fc.', 'fully_connected.')] = pretrained_dict[key]\n",
    "            del pretrained_dict[key]\n",
    "\n",
    "    model.load_state_dict(pretrained_dict)\n",
    "\n",
    "    # Freeze mobilenet\n",
    "    for p in model.parameters():\n",
    "        p.requires_grad = False\n",
    "\n",
    "    # remove the average pooling layer\n",
    "    # now the output after the last layer will be of shape 7 x 7 x 1024\n",
    "    model = nn.Sequential(*(model.conv_layers[i] for i in range(14)))\n",
    "\n",
    "    return model"
   ]
  },
  {
   "cell_type": "code",
   "execution_count": null,
   "metadata": {
    "id": "6mTtoESUdyK_"
   },
   "outputs": [],
   "source": [
    "# increase the dimensions and decrease the number of channels using transpose convolution\n",
    "def upsample_layer(input_channels, output_channels):\n",
    "    stride = 2\n",
    "    kernel_size = 5\n",
    "    padding = 2\n",
    "    output_padding = 1\n",
    "\n",
    "    '''\n",
    "    # approach 1: \n",
    "    # first depthwise transconv to increase dimensions, channels remain same\n",
    "    # then pointwise to decrease channels, dims remain same\n",
    "    '''\n",
    "    model = nn.Sequential(\n",
    "            # depthwise transconv, ensured using groups = channels\n",
    "            nn.ConvTranspose2d(\n",
    "                in_channels = input_channels,\n",
    "                out_channels = input_channels,\n",
    "                kernel_size = kernel_size,\n",
    "                stride = stride,\n",
    "                padding = padding,\n",
    "                output_padding = output_padding,\n",
    "                bias = False,\n",
    "                groups = input_channels),\n",
    "            nn.BatchNorm2d(num_features=input_channels),\n",
    "            nn.ReLU(inplace=True),\n",
    "\n",
    "            # pointwise\n",
    "            nn.Conv2d(\n",
    "                in_channels = input_channels, \n",
    "                out_channels = output_channels, \n",
    "                kernel_size = 1, \n",
    "                stride = 1, \n",
    "                padding = 0, \n",
    "                bias=False),\n",
    "            nn.BatchNorm2d(num_features=output_channels),\n",
    "            nn.ReLU(inplace=True)\n",
    "        )\n",
    "    \n",
    "    '''\n",
    "    # approach 2: \n",
    "    # normal transconv operation where dims and channel both are changed in one operation\n",
    "    # this has more params than approach 1\n",
    "    \n",
    "    model = nn.Sequential(\n",
    "            # depthwise transconv, ensured using groups = channels\n",
    "            nn.ConvTranspose2d(\n",
    "                in_channels = input_channels,\n",
    "                out_channels = output_channels,\n",
    "                kernel_size = kernel_size,\n",
    "                stride = stride,\n",
    "                padding = padding,\n",
    "                output_padding = output_padding,\n",
    "                bias=False),\n",
    "            nn.BatchNorm2d(num_features=output_channels),\n",
    "            nn.ReLU(inplace=True)\n",
    "        )\n",
    "    '''\n",
    "\n",
    "    return model"
   ]
  },
  {
   "cell_type": "code",
   "execution_count": null,
   "metadata": {
    "id": "byofnsiVhs2E"
   },
   "outputs": [],
   "source": [
    "def get_layer_activations(model, activation):\n",
    "    def get_activation(name):\n",
    "        def hook(model, input, output):\n",
    "            activation[name] = output.detach()\n",
    "        return hook\n",
    "\n",
    "    for i in range(14):\n",
    "        model[i].register_forward_hook(get_activation('conv_layers' + str(i)))\n",
    "    '''\n",
    "    # Debug Block: prints shape of each intermediate and final activation\n",
    "    x = torch.randn(1, 3, 224, 224)\n",
    "    output = model(x)\n",
    "    for i in range(14):\n",
    "      print(activation['conv_layers' + str(i)].shape)\n",
    "    '''"
   ]
  },
  {
   "cell_type": "code",
   "execution_count": null,
   "metadata": {
    "id": "J8awKqAkzEsG"
   },
   "outputs": [],
   "source": [
    "class FastDepth(nn.Module):\n",
    "    def __init__(self):\n",
    "        super(FastDepth, self).__init__()\n",
    "        # mobilenet\n",
    "        self.mobilenet = load_pretrained_mobilenet()\n",
    "        self.activation = {} \n",
    "        get_layer_activations(self.mobilenet, self.activation)\n",
    "\n",
    "        # upsample layers\n",
    "        self.upsample1 = upsample_layer(1024, 512)\n",
    "        self.upsample2 = upsample_layer(512, 256)\n",
    "        self.upsample3 = upsample_layer(256, 128)\n",
    "        self.upsample4 = upsample_layer(128, 64)\n",
    "        self.upsample5 = upsample_layer(64, 32)\n",
    "        self.pointwise = nn.Conv2d(\n",
    "          in_channels = 32, \n",
    "          out_channels = 1, \n",
    "          kernel_size = 1, \n",
    "          stride = 1, \n",
    "          padding = 0, \n",
    "          bias=False)\n",
    "        \n",
    "    def forward(self, x):\n",
    "        x = self.mobilenet(x)\n",
    "        x = self.upsample1(x)\n",
    "        x = self.upsample2(x)\n",
    "        x = self.upsample3(x + self.activation['conv_layers5'])\n",
    "        x = self.upsample4(x + self.activation['conv_layers3'])\n",
    "        x = self.upsample5(x + self.activation['conv_layers1'])\n",
    "        x = self.pointwise(x)\n",
    "        return x"
   ]
  },
  {
   "cell_type": "code",
   "execution_count": null,
   "metadata": {
    "colab": {
     "base_uri": "https://localhost:8080/"
    },
    "id": "tpUaopx_w_2F",
    "outputId": "6b03ecc7-79a8-4937-a288-db81c41afbba"
   },
   "outputs": [
    {
     "name": "stdout",
     "output_type": "stream",
     "text": [
      "FastDepth(\n",
      "  (mobilenet): Sequential(\n",
      "    (0): Sequential(\n",
      "      (0): Conv2d(3, 32, kernel_size=(3, 3), stride=(2, 2), padding=(1, 1), bias=False)\n",
      "      (1): BatchNorm2d(32, eps=1e-05, momentum=0.1, affine=True, track_running_stats=True)\n",
      "      (2): ReLU(inplace=True)\n",
      "    )\n",
      "    (1): Sequential(\n",
      "      (0): Conv2d(32, 32, kernel_size=(3, 3), stride=(1, 1), padding=(1, 1), groups=32, bias=False)\n",
      "      (1): BatchNorm2d(32, eps=1e-05, momentum=0.1, affine=True, track_running_stats=True)\n",
      "      (2): ReLU(inplace=True)\n",
      "      (3): Conv2d(32, 64, kernel_size=(1, 1), stride=(1, 1), bias=False)\n",
      "      (4): BatchNorm2d(64, eps=1e-05, momentum=0.1, affine=True, track_running_stats=True)\n",
      "      (5): ReLU(inplace=True)\n",
      "    )\n",
      "    (2): Sequential(\n",
      "      (0): Conv2d(64, 64, kernel_size=(3, 3), stride=(2, 2), padding=(1, 1), groups=64, bias=False)\n",
      "      (1): BatchNorm2d(64, eps=1e-05, momentum=0.1, affine=True, track_running_stats=True)\n",
      "      (2): ReLU(inplace=True)\n",
      "      (3): Conv2d(64, 128, kernel_size=(1, 1), stride=(1, 1), bias=False)\n",
      "      (4): BatchNorm2d(128, eps=1e-05, momentum=0.1, affine=True, track_running_stats=True)\n",
      "      (5): ReLU(inplace=True)\n",
      "    )\n",
      "    (3): Sequential(\n",
      "      (0): Conv2d(128, 128, kernel_size=(3, 3), stride=(1, 1), padding=(1, 1), groups=128, bias=False)\n",
      "      (1): BatchNorm2d(128, eps=1e-05, momentum=0.1, affine=True, track_running_stats=True)\n",
      "      (2): ReLU(inplace=True)\n",
      "      (3): Conv2d(128, 128, kernel_size=(1, 1), stride=(1, 1), bias=False)\n",
      "      (4): BatchNorm2d(128, eps=1e-05, momentum=0.1, affine=True, track_running_stats=True)\n",
      "      (5): ReLU(inplace=True)\n",
      "    )\n",
      "    (4): Sequential(\n",
      "      (0): Conv2d(128, 128, kernel_size=(3, 3), stride=(2, 2), padding=(1, 1), groups=128, bias=False)\n",
      "      (1): BatchNorm2d(128, eps=1e-05, momentum=0.1, affine=True, track_running_stats=True)\n",
      "      (2): ReLU(inplace=True)\n",
      "      (3): Conv2d(128, 256, kernel_size=(1, 1), stride=(1, 1), bias=False)\n",
      "      (4): BatchNorm2d(256, eps=1e-05, momentum=0.1, affine=True, track_running_stats=True)\n",
      "      (5): ReLU(inplace=True)\n",
      "    )\n",
      "    (5): Sequential(\n",
      "      (0): Conv2d(256, 256, kernel_size=(3, 3), stride=(1, 1), padding=(1, 1), groups=256, bias=False)\n",
      "      (1): BatchNorm2d(256, eps=1e-05, momentum=0.1, affine=True, track_running_stats=True)\n",
      "      (2): ReLU(inplace=True)\n",
      "      (3): Conv2d(256, 256, kernel_size=(1, 1), stride=(1, 1), bias=False)\n",
      "      (4): BatchNorm2d(256, eps=1e-05, momentum=0.1, affine=True, track_running_stats=True)\n",
      "      (5): ReLU(inplace=True)\n",
      "    )\n",
      "    (6): Sequential(\n",
      "      (0): Conv2d(256, 256, kernel_size=(3, 3), stride=(2, 2), padding=(1, 1), groups=256, bias=False)\n",
      "      (1): BatchNorm2d(256, eps=1e-05, momentum=0.1, affine=True, track_running_stats=True)\n",
      "      (2): ReLU(inplace=True)\n",
      "      (3): Conv2d(256, 512, kernel_size=(1, 1), stride=(1, 1), bias=False)\n",
      "      (4): BatchNorm2d(512, eps=1e-05, momentum=0.1, affine=True, track_running_stats=True)\n",
      "      (5): ReLU(inplace=True)\n",
      "    )\n",
      "    (7): Sequential(\n",
      "      (0): Conv2d(512, 512, kernel_size=(3, 3), stride=(1, 1), padding=(1, 1), groups=512, bias=False)\n",
      "      (1): BatchNorm2d(512, eps=1e-05, momentum=0.1, affine=True, track_running_stats=True)\n",
      "      (2): ReLU(inplace=True)\n",
      "      (3): Conv2d(512, 512, kernel_size=(1, 1), stride=(1, 1), bias=False)\n",
      "      (4): BatchNorm2d(512, eps=1e-05, momentum=0.1, affine=True, track_running_stats=True)\n",
      "      (5): ReLU(inplace=True)\n",
      "    )\n",
      "    (8): Sequential(\n",
      "      (0): Conv2d(512, 512, kernel_size=(3, 3), stride=(1, 1), padding=(1, 1), groups=512, bias=False)\n",
      "      (1): BatchNorm2d(512, eps=1e-05, momentum=0.1, affine=True, track_running_stats=True)\n",
      "      (2): ReLU(inplace=True)\n",
      "      (3): Conv2d(512, 512, kernel_size=(1, 1), stride=(1, 1), bias=False)\n",
      "      (4): BatchNorm2d(512, eps=1e-05, momentum=0.1, affine=True, track_running_stats=True)\n",
      "      (5): ReLU(inplace=True)\n",
      "    )\n",
      "    (9): Sequential(\n",
      "      (0): Conv2d(512, 512, kernel_size=(3, 3), stride=(1, 1), padding=(1, 1), groups=512, bias=False)\n",
      "      (1): BatchNorm2d(512, eps=1e-05, momentum=0.1, affine=True, track_running_stats=True)\n",
      "      (2): ReLU(inplace=True)\n",
      "      (3): Conv2d(512, 512, kernel_size=(1, 1), stride=(1, 1), bias=False)\n",
      "      (4): BatchNorm2d(512, eps=1e-05, momentum=0.1, affine=True, track_running_stats=True)\n",
      "      (5): ReLU(inplace=True)\n",
      "    )\n",
      "    (10): Sequential(\n",
      "      (0): Conv2d(512, 512, kernel_size=(3, 3), stride=(1, 1), padding=(1, 1), groups=512, bias=False)\n",
      "      (1): BatchNorm2d(512, eps=1e-05, momentum=0.1, affine=True, track_running_stats=True)\n",
      "      (2): ReLU(inplace=True)\n",
      "      (3): Conv2d(512, 512, kernel_size=(1, 1), stride=(1, 1), bias=False)\n",
      "      (4): BatchNorm2d(512, eps=1e-05, momentum=0.1, affine=True, track_running_stats=True)\n",
      "      (5): ReLU(inplace=True)\n",
      "    )\n",
      "    (11): Sequential(\n",
      "      (0): Conv2d(512, 512, kernel_size=(3, 3), stride=(1, 1), padding=(1, 1), groups=512, bias=False)\n",
      "      (1): BatchNorm2d(512, eps=1e-05, momentum=0.1, affine=True, track_running_stats=True)\n",
      "      (2): ReLU(inplace=True)\n",
      "      (3): Conv2d(512, 512, kernel_size=(1, 1), stride=(1, 1), bias=False)\n",
      "      (4): BatchNorm2d(512, eps=1e-05, momentum=0.1, affine=True, track_running_stats=True)\n",
      "      (5): ReLU(inplace=True)\n",
      "    )\n",
      "    (12): Sequential(\n",
      "      (0): Conv2d(512, 512, kernel_size=(3, 3), stride=(2, 2), padding=(1, 1), groups=512, bias=False)\n",
      "      (1): BatchNorm2d(512, eps=1e-05, momentum=0.1, affine=True, track_running_stats=True)\n",
      "      (2): ReLU(inplace=True)\n",
      "      (3): Conv2d(512, 1024, kernel_size=(1, 1), stride=(1, 1), bias=False)\n",
      "      (4): BatchNorm2d(1024, eps=1e-05, momentum=0.1, affine=True, track_running_stats=True)\n",
      "      (5): ReLU(inplace=True)\n",
      "    )\n",
      "    (13): Sequential(\n",
      "      (0): Conv2d(1024, 1024, kernel_size=(3, 3), stride=(1, 1), padding=(1, 1), groups=1024, bias=False)\n",
      "      (1): BatchNorm2d(1024, eps=1e-05, momentum=0.1, affine=True, track_running_stats=True)\n",
      "      (2): ReLU(inplace=True)\n",
      "      (3): Conv2d(1024, 1024, kernel_size=(1, 1), stride=(1, 1), bias=False)\n",
      "      (4): BatchNorm2d(1024, eps=1e-05, momentum=0.1, affine=True, track_running_stats=True)\n",
      "      (5): ReLU(inplace=True)\n",
      "    )\n",
      "  )\n",
      "  (upsample1): Sequential(\n",
      "    (0): ConvTranspose2d(1024, 1024, kernel_size=(5, 5), stride=(2, 2), padding=(2, 2), output_padding=(1, 1), groups=1024, bias=False)\n",
      "    (1): BatchNorm2d(1024, eps=1e-05, momentum=0.1, affine=True, track_running_stats=True)\n",
      "    (2): ReLU(inplace=True)\n",
      "    (3): Conv2d(1024, 512, kernel_size=(1, 1), stride=(1, 1), bias=False)\n",
      "    (4): BatchNorm2d(512, eps=1e-05, momentum=0.1, affine=True, track_running_stats=True)\n",
      "    (5): ReLU(inplace=True)\n",
      "  )\n",
      "  (upsample2): Sequential(\n",
      "    (0): ConvTranspose2d(512, 512, kernel_size=(5, 5), stride=(2, 2), padding=(2, 2), output_padding=(1, 1), groups=512, bias=False)\n",
      "    (1): BatchNorm2d(512, eps=1e-05, momentum=0.1, affine=True, track_running_stats=True)\n",
      "    (2): ReLU(inplace=True)\n",
      "    (3): Conv2d(512, 256, kernel_size=(1, 1), stride=(1, 1), bias=False)\n",
      "    (4): BatchNorm2d(256, eps=1e-05, momentum=0.1, affine=True, track_running_stats=True)\n",
      "    (5): ReLU(inplace=True)\n",
      "  )\n",
      "  (upsample3): Sequential(\n",
      "    (0): ConvTranspose2d(256, 256, kernel_size=(5, 5), stride=(2, 2), padding=(2, 2), output_padding=(1, 1), groups=256, bias=False)\n",
      "    (1): BatchNorm2d(256, eps=1e-05, momentum=0.1, affine=True, track_running_stats=True)\n",
      "    (2): ReLU(inplace=True)\n",
      "    (3): Conv2d(256, 128, kernel_size=(1, 1), stride=(1, 1), bias=False)\n",
      "    (4): BatchNorm2d(128, eps=1e-05, momentum=0.1, affine=True, track_running_stats=True)\n",
      "    (5): ReLU(inplace=True)\n",
      "  )\n",
      "  (upsample4): Sequential(\n",
      "    (0): ConvTranspose2d(128, 128, kernel_size=(5, 5), stride=(2, 2), padding=(2, 2), output_padding=(1, 1), groups=128, bias=False)\n",
      "    (1): BatchNorm2d(128, eps=1e-05, momentum=0.1, affine=True, track_running_stats=True)\n",
      "    (2): ReLU(inplace=True)\n",
      "    (3): Conv2d(128, 64, kernel_size=(1, 1), stride=(1, 1), bias=False)\n",
      "    (4): BatchNorm2d(64, eps=1e-05, momentum=0.1, affine=True, track_running_stats=True)\n",
      "    (5): ReLU(inplace=True)\n",
      "  )\n",
      "  (upsample5): Sequential(\n",
      "    (0): ConvTranspose2d(64, 64, kernel_size=(5, 5), stride=(2, 2), padding=(2, 2), output_padding=(1, 1), groups=64, bias=False)\n",
      "    (1): BatchNorm2d(64, eps=1e-05, momentum=0.1, affine=True, track_running_stats=True)\n",
      "    (2): ReLU(inplace=True)\n",
      "    (3): Conv2d(64, 32, kernel_size=(1, 1), stride=(1, 1), bias=False)\n",
      "    (4): BatchNorm2d(32, eps=1e-05, momentum=0.1, affine=True, track_running_stats=True)\n",
      "    (5): ReLU(inplace=True)\n",
      "  )\n",
      "  (pointwise): Conv2d(32, 1, kernel_size=(1, 1), stride=(1, 1), bias=False)\n",
      ")\n"
     ]
    }
   ],
   "source": [
    "model = FastDepth().to(device)\n",
    "print(model)"
   ]
  },
  {
   "cell_type": "code",
   "execution_count": null,
   "metadata": {
    "id": "k1elFzMDxy7T"
   },
   "outputs": [],
   "source": [
    "x = torch.randn(1, 3, 224, 224)\n",
    "target = torch.randn(1, 1, 224, 224)\n",
    "output = model(x)\n",
    "print(output.shape)"
   ]
  },
  {
   "cell_type": "code",
   "execution_count": null,
   "metadata": {
    "id": "IxD45u61zrVZ"
   },
   "outputs": [],
   "source": [
    "loss_fn = nn.MSELoss()\n",
    "optimizer = torch.optim.Adam(model.parameters(), lr=0.001)"
   ]
  },
  {
   "cell_type": "code",
   "execution_count": null,
   "metadata": {
    "id": "aazq2Ai-0i-T"
   },
   "outputs": [],
   "source": [
    "optimizer.zero_grad()\n",
    "output = model(x)\n",
    "loss = loss_fn(output, target)\n",
    "loss.backward()\n",
    "optimizer.step()"
   ]
  },
  {
   "cell_type": "code",
   "execution_count": null,
   "metadata": {
    "colab": {
     "base_uri": "https://localhost:8080/"
    },
    "id": "aDhDU6X5NkfR",
    "outputId": "561bbf3c-1399-4c8b-c303-491bb3ccfd0e"
   },
   "outputs": [
    {
     "name": "stdout",
     "output_type": "stream",
     "text": [
      "torch.Size([1, 32, 112, 112])\n",
      "torch.Size([1, 64, 112, 112])\n",
      "torch.Size([1, 128, 56, 56])\n",
      "torch.Size([1, 128, 56, 56])\n",
      "torch.Size([1, 256, 28, 28])\n",
      "torch.Size([1, 256, 28, 28])\n",
      "torch.Size([1, 512, 14, 14])\n",
      "torch.Size([1, 512, 14, 14])\n",
      "torch.Size([1, 512, 14, 14])\n",
      "torch.Size([1, 512, 14, 14])\n",
      "torch.Size([1, 512, 14, 14])\n",
      "torch.Size([1, 512, 14, 14])\n",
      "torch.Size([1, 1024, 7, 7])\n",
      "torch.Size([1, 1024, 7, 7])\n"
     ]
    }
   ],
   "source": [
    "# Test Block\n",
    "activation = {}\n",
    "def get_activation(name):\n",
    "    def hook(model, input, output):\n",
    "        activation[name] = output.detach()\n",
    "    return hook\n",
    "\n",
    "\n",
    "model = load_pretrained_mobilenet()\n",
    "for i in range(14):\n",
    "    model[i].register_forward_hook(get_activation('conv_layers' + str(i)))\n",
    "x = torch.randn(1, 3, 224, 224)\n",
    "output = model(x)\n",
    "for i in range(14):\n",
    "  print(activation['conv_layers' + str(i)].shape)"
   ]
  },
  {
   "cell_type": "code",
   "execution_count": null,
   "metadata": {},
   "outputs": [],
   "source": [
    "# Dataset Load: NYU Depth\n",
    "\n",
    "%matplotlib inline \n",
    "from matplotlib import pyplot as plt\n",
    "import h5py\n",
    "import numpy as np"
   ]
  },
  {
   "cell_type": "code",
   "execution_count": null,
   "metadata": {},
   "outputs": [],
   "source": [
    "filepath = 'nyu_depth_v2_labeled.mat'\n",
    "arrays = {}\n",
    "f = h5py.File(filepath)\n",
    "#print(f[depths])\n",
    "images = []\n",
    "depths = []\n",
    "for k, v in f.items():\n",
    "    if k == 'images':\n",
    "        images = v\n",
    "    if k == 'depths':\n",
    "        depths = v"
   ]
  },
  {
   "cell_type": "code",
   "execution_count": null,
   "metadata": {},
   "outputs": [],
   "source": [
    "depths = np.array(depths)\n",
    "images = np.array(images)\n",
    "print(images.shape)\n",
    "print(depths.shape)"
   ]
  },
  {
   "cell_type": "code",
   "execution_count": null,
   "metadata": {},
   "outputs": [],
   "source": [
    "d = np.expand_dims(depths, axis=-1)\n",
    "d = np.moveaxis(d, 3, 1)\n",
    "print(d.shape)"
   ]
  },
  {
   "cell_type": "code",
   "execution_count": null,
   "metadata": {},
   "outputs": [],
   "source": [
    "im = np.moveaxis(images, 1, 3)\n",
    "print(im.shape)"
   ]
  },
  {
   "cell_type": "code",
   "execution_count": null,
   "metadata": {},
   "outputs": [],
   "source": [
    "plt.imshow(depths[1], interpolation='nearest')\n",
    "plt.show()"
   ]
  }
 ],
 "metadata": {
  "colab": {
   "name": "SAIDL Assignment3.ipynb",
   "provenance": []
  },
  "kernelspec": {
   "display_name": "Python 3",
   "language": "python",
   "name": "python3"
  },
  "language_info": {
   "codemirror_mode": {
    "name": "ipython",
    "version": 3
   },
   "file_extension": ".py",
   "mimetype": "text/x-python",
   "name": "python",
   "nbconvert_exporter": "python",
   "pygments_lexer": "ipython3",
   "version": "3.7.11"
  }
 },
 "nbformat": 4,
 "nbformat_minor": 1
}
